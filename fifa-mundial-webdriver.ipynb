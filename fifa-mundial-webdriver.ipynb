{
 "cells": [
  {
   "cell_type": "markdown",
   "id": "111aeda0",
   "metadata": {},
   "source": [
    "## Introducción Scraping II\n",
    "\n",
    "\n",
    "Trabajo de scraping sobre la web de FIFA para obtener información de los jugadores de la selección española de fútbol en el Mundial de 2022\n",
    "\n",
    "> Automatización de la descarga del archivo html\n",
    "\n"
   ]
  },
  {
   "cell_type": "code",
   "execution_count": 1,
   "id": "b60a5534",
   "metadata": {},
   "outputs": [
    {
     "name": "stdout",
     "output_type": "stream",
     "text": [
      "Collecting selenium\n",
      "  Downloading selenium-4.6.0-py3-none-any.whl (5.2 MB)\n",
      "\u001b[2K     \u001b[38;2;114;156;31m━━━━━━━━━━━━━━━━━━━━━━━━━━━━━━━━━━━━━━━━\u001b[0m \u001b[32m5.2/5.2 MB\u001b[0m \u001b[31m7.1 MB/s\u001b[0m eta \u001b[36m0:00:00\u001b[0mm eta \u001b[36m0:00:01\u001b[0m[36m0:00:01\u001b[0m\n",
      "\u001b[?25hCollecting geckodriver_autoinstaller\n",
      "  Downloading geckodriver_autoinstaller-0.1.0-py3-none-any.whl (5.6 kB)\n",
      "Collecting trio~=0.17\n",
      "  Downloading trio-0.22.0-py3-none-any.whl (384 kB)\n",
      "\u001b[2K     \u001b[38;2;114;156;31m━━━━━━━━━━━━━━━━━━━━━━━━━━━━━━━━━━━━━━━\u001b[0m \u001b[32m384.9/384.9 kB\u001b[0m \u001b[31m7.6 MB/s\u001b[0m eta \u001b[36m0:00:00\u001b[0m MB/s\u001b[0m eta \u001b[36m0:00:01\u001b[0m\n",
      "\u001b[?25hCollecting certifi>=2021.10.8\n",
      "  Using cached certifi-2022.9.24-py3-none-any.whl (161 kB)\n",
      "Collecting trio-websocket~=0.9\n",
      "  Downloading trio_websocket-0.9.2-py3-none-any.whl (16 kB)\n",
      "Collecting urllib3[socks]~=1.26\n",
      "  Using cached urllib3-1.26.12-py2.py3-none-any.whl (140 kB)\n",
      "Collecting outcome\n",
      "  Downloading outcome-1.2.0-py2.py3-none-any.whl (9.7 kB)\n",
      "Collecting async-generator>=1.9\n",
      "  Downloading async_generator-1.10-py3-none-any.whl (18 kB)\n",
      "Collecting exceptiongroup>=1.0.0rc9\n",
      "  Downloading exceptiongroup-1.0.4-py3-none-any.whl (14 kB)\n",
      "Collecting sortedcontainers\n",
      "  Downloading sortedcontainers-2.4.0-py2.py3-none-any.whl (29 kB)\n",
      "Requirement already satisfied: attrs>=19.2.0 in ./env/lib/python3.8/site-packages (from trio~=0.17->selenium) (22.1.0)\n",
      "Requirement already satisfied: idna in ./env/lib/python3.8/site-packages (from trio~=0.17->selenium) (3.4)\n",
      "Requirement already satisfied: sniffio in ./env/lib/python3.8/site-packages (from trio~=0.17->selenium) (1.3.0)\n",
      "Collecting wsproto>=0.14\n",
      "  Downloading wsproto-1.2.0-py3-none-any.whl (24 kB)\n",
      "Collecting PySocks!=1.5.7,<2.0,>=1.5.6\n",
      "  Downloading PySocks-1.7.1-py3-none-any.whl (16 kB)\n",
      "Collecting h11<1,>=0.9.0\n",
      "  Downloading h11-0.14.0-py3-none-any.whl (58 kB)\n",
      "\u001b[2K     \u001b[38;2;114;156;31m━━━━━━━━━━━━━━━━━━━━━━━━━━━━━━━━━━━━━━━━\u001b[0m \u001b[32m58.3/58.3 kB\u001b[0m \u001b[31m6.3 MB/s\u001b[0m eta \u001b[36m0:00:00\u001b[0m\n",
      "\u001b[?25hInstalling collected packages: sortedcontainers, urllib3, PySocks, outcome, h11, geckodriver_autoinstaller, exceptiongroup, certifi, async-generator, wsproto, trio, trio-websocket, selenium\n",
      "Successfully installed PySocks-1.7.1 async-generator-1.10 certifi-2022.9.24 exceptiongroup-1.0.4 geckodriver_autoinstaller-0.1.0 h11-0.14.0 outcome-1.2.0 selenium-4.6.0 sortedcontainers-2.4.0 trio-0.22.0 trio-websocket-0.9.2 urllib3-1.26.12 wsproto-1.2.0\n"
     ]
    }
   ],
   "source": [
    "! pip install selenium geckodriver_autoinstaller"
   ]
  },
  {
   "cell_type": "code",
   "execution_count": null,
   "id": "94021987",
   "metadata": {},
   "outputs": [],
   "source": [
    "# https://selenium-python.readthedocs.io/installation.html\n",
    "https://selenium-python.readthedocs.io/installation.html"
   ]
  },
  {
   "cell_type": "code",
   "execution_count": 2,
   "id": "9d389fb4",
   "metadata": {},
   "outputs": [
    {
     "data": {
      "text/plain": [
       "'/home/lmorillas/proyectos/scraping-fifa-mundial/env/lib/python3.8/site-packages/geckodriver_autoinstaller/v0.32.0/geckodriver'"
      ]
     },
     "execution_count": 2,
     "metadata": {},
     "output_type": "execute_result"
    }
   ],
   "source": [
    "# instalación del driver de firefox\n",
    "\n",
    "import geckodriver_autoinstaller\n",
    "\n",
    "geckodriver_autoinstaller.install()"
   ]
  },
  {
   "cell_type": "code",
   "execution_count": 8,
   "id": "6065a04b",
   "metadata": {},
   "outputs": [
    {
     "name": "stderr",
     "output_type": "stream",
     "text": [
      "/tmp/ipykernel_10873/3179291331.py:10: DeprecationWarning: firefox_binary has been deprecated, please pass in a Service object\n",
      "  driver = webdriver.Firefox(firefox_binary = '/usr/bin/firefox', options = options)\n"
     ]
    }
   ],
   "source": [
    "from selenium import webdriver\n",
    "from selenium.webdriver.firefox.options import Options\n",
    "\n",
    "# Options para headless (sin interfaz gráfica)\n",
    "options = Options()\n",
    "options.add_argument('-headless')\n",
    "\n",
    "url = 'https://www.fifa.com/fifaplus/es/tournaments/mens/worldcup/qatar2022/teams/spain/squad'\n",
    "\n",
    "driver = webdriver.Firefox(options = options)\n",
    "\n",
    "# si no encuentra el binary\n",
    "# driver = webdriver.Firefox(firefox_binary = '/usr/bin/firefox', options = options)\n",
    "\n",
    "driver.get(url)\n",
    "driver.implicitly_wait(3) # para carga de js?\n"
   ]
  },
  {
   "cell_type": "code",
   "execution_count": null,
   "id": "9fb0c85f",
   "metadata": {},
   "outputs": [],
   "source": [
    "with open('spain.html', 'w') as f:\n",
    "    f.write(driver.page_source)"
   ]
  },
  {
   "cell_type": "code",
   "execution_count": 3,
   "id": "b640d654",
   "metadata": {},
   "outputs": [
    {
     "ename": "NameError",
     "evalue": "name 'driver' is not defined",
     "output_type": "error",
     "traceback": [
      "\u001b[0;31m---------------------------------------------------------------------------\u001b[0m",
      "\u001b[0;31mNameError\u001b[0m                                 Traceback (most recent call last)",
      "Cell \u001b[0;32mIn [3], line 3\u001b[0m\n\u001b[1;32m      1\u001b[0m url \u001b[39m=\u001b[39m \u001b[39m'\u001b[39m\u001b[39mhttps://www.fifa.com/fifaplus/es/tournaments/mens/worldcup/qatar2022/teams/\u001b[39m\u001b[39m'\u001b[39m\n\u001b[0;32m----> 3\u001b[0m driver\u001b[39m.\u001b[39mget(url)\n\u001b[1;32m      4\u001b[0m driver\u001b[39m.\u001b[39mimplicitly_wait(\u001b[39m3\u001b[39m) \u001b[39m# para carga de js?\u001b[39;00m\n\u001b[1;32m      6\u001b[0m \u001b[39mwith\u001b[39;00m \u001b[39mopen\u001b[39m(\u001b[39m'\u001b[39m\u001b[39mequipos.html\u001b[39m\u001b[39m'\u001b[39m, \u001b[39m'\u001b[39m\u001b[39mw\u001b[39m\u001b[39m'\u001b[39m) \u001b[39mas\u001b[39;00m f:\n",
      "\u001b[0;31mNameError\u001b[0m: name 'driver' is not defined"
     ]
    }
   ],
   "source": [
    "url = 'https://www.fifa.com/fifaplus/es/tournaments/mens/worldcup/qatar2022/teams/'\n",
    "\n",
    "driver.get(url)\n",
    "driver.implicitly_wait(3) # para carga de js?\n",
    "\n",
    "with open('equipos.html', 'w') as f:\n",
    "    f.write(driver.page_source)"
   ]
  },
  {
   "cell_type": "markdown",
   "id": "631c4115",
   "metadata": {},
   "source": [
    "¿Ahora podrías usar la web de los equipos para descargarlos todos? \n",
    "\n",
    "https://www.fifa.com/fifaplus/es/tournaments/mens/worldcup/qatar2022/teams"
   ]
  }
 ],
 "metadata": {
  "kernelspec": {
   "display_name": "Python 3.8.10 ('env': venv)",
   "language": "python",
   "name": "python3"
  },
  "language_info": {
   "codemirror_mode": {
    "name": "ipython",
    "version": 3
   },
   "file_extension": ".py",
   "mimetype": "text/x-python",
   "name": "python",
   "nbconvert_exporter": "python",
   "pygments_lexer": "ipython3",
   "version": "3.8.10"
  },
  "vscode": {
   "interpreter": {
    "hash": "d7d2ccfaef867ec09ad613dc5506b79eb5c2fa2d5c5fa71603bbc7f41f7e86d7"
   }
  }
 },
 "nbformat": 4,
 "nbformat_minor": 5
}
