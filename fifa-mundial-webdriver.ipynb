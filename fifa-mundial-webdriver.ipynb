{
 "cells": [
  {
   "cell_type": "markdown",
   "id": "111aeda0",
   "metadata": {},
   "source": [
    "## Introducción Scraping II\n",
    "\n",
    "\n",
    "Trabajo de scraping sobre la web de FIFA para obtener información de los jugadores de la selección española de fútbol en el Mundial de 2022\n",
    "\n",
    "> Automatización de la descarga del archivo html\n",
    "\n"
   ]
  },
  {
   "cell_type": "code",
   "execution_count": null,
   "id": "b60a5534",
   "metadata": {},
   "outputs": [],
   "source": [
    "! pip install --upgrade pip\n",
    "! pip install selenium"
   ]
  },
  {
   "cell_type": "markdown",
   "id": "94021987",
   "metadata": {},
   "source": [
    "## Instalación del driver\n",
    "\n",
    "https://selenium-python.readthedocs.io/installation.html#drivers\n",
    "\n",
    "Tienes que descargar el driver del navegador que vayas a usar.\n",
    "\n",
    "### Driver de Firefox\n",
    "Descarga la versión adecuada a tu navegador (versión) y sistema operativo de https://github.com/mozilla/geckodriver/releases\n",
    "\n",
    "### Driver de Chrome    \n",
    "https://sites.google.com/chromium.org/driver/downloads\n",
    "\n",
    "Descomprime el driver en esta carpeta."
   ]
  },
  {
   "cell_type": "code",
   "execution_count": null,
   "id": "6065a04b",
   "metadata": {},
   "outputs": [],
   "source": [
    "# Ejemplo usando Firefox\n",
    "from selenium import webdriver\n",
    "from selenium.webdriver.firefox.options import Options\n",
    "\n",
    "# Options para headless (sin interfaz gráfica)\n",
    "options = Options()\n",
    "options.add_argument('-headless')\n",
    "\n",
    "url = 'https://www.fifa.com/fifaplus/es/tournaments/mens/worldcup/qatar2022/teams/spain/squad'\n",
    "\n",
    "driver = webdriver.Firefox(options = options)\n",
    "\n",
    "# si no encuentra el binary\n",
    "# driver = webdriver.Firefox(firefox_binary = '/usr/bin/firefox', options = options)\n",
    "\n",
    "driver.get(url)\n",
    "driver.implicitly_wait(10) # para carga de js?\n"
   ]
  },
  {
   "cell_type": "code",
   "execution_count": null,
   "id": "9fb0c85f",
   "metadata": {},
   "outputs": [],
   "source": [
    "with open('spain.html', 'w') as f:\n",
    "    f.write(driver.page_source)"
   ]
  },
  {
   "cell_type": "markdown",
   "id": "631c4115",
   "metadata": {},
   "source": [
    "¿Ahora podrías usar la web de los equipos para descargarlos todos? \n",
    "\n",
    "https://www.fifa.com/fifaplus/es/tournaments/mens/worldcup/qatar2022/teams"
   ]
  },
  {
   "cell_type": "code",
   "execution_count": null,
   "id": "682dd051",
   "metadata": {},
   "outputs": [],
   "source": [
    "# Cargar la página de equipos con el navegador\n",
    "url = 'https://www.fifa.com/fifaplus/es/tournaments/mens/worldcup/qatar2022/teams'\n",
    "driver.get(url)\n",
    "driver.implicitly_wait(10) # para carga de js?"
   ]
  },
  {
   "cell_type": "code",
   "execution_count": null,
   "id": "558e71aa",
   "metadata": {},
   "outputs": [],
   "source": [
    "# guardo la página web con los equipos\n",
    "\n",
    "with open('equipos.html', 'w') as f:\n",
    "    f.write(driver.page_source)"
   ]
  },
  {
   "cell_type": "code",
   "execution_count": null,
   "id": "3964aecf",
   "metadata": {},
   "outputs": [],
   "source": [
    "# Cargamos nuevo archivo equipos.html\n",
    "from bs4 import BeautifulSoup\n",
    "\n",
    "html_doc = open('equipos.html').read()\n",
    "\n",
    "soup = BeautifulSoup(html_doc, 'html.parser')"
   ]
  },
  {
   "cell_type": "code",
   "execution_count": null,
   "id": "055cc55a",
   "metadata": {},
   "outputs": [],
   "source": [
    "# Buscamos los equipos\n",
    "equipos = soup.select('div[class*=\"flag-grid_flagGrid\"] a')\n",
    "print(len(equipos))\n"
   ]
  },
  {
   "cell_type": "code",
   "execution_count": null,
   "id": "d11edcc9",
   "metadata": {},
   "outputs": [],
   "source": [
    "# Preparamos función para extraer los datos de cada país\n",
    "\n",
    "def datos_pais(p):\n",
    "    nombre = p.select('div[class*=\"flag-with-info_flagCountry\"]')[0].text\n",
    "    abr = p.select('div[class*=\"flag-with-info_flagAbbr\"]')[0].text.replace('(', '').replace(')', '')\n",
    "    url = f'https://www.fifa.com{p.attrs[\"href\"]}'.replace('news', 'squad')  # url de la plantilla\n",
    "    bandera = p.select('div[class*=\"flag_flagLarge\"] img')[0]['src']\n",
    "    return {'nombre': nombre, 'abr': abr, 'url': url, 'bandera': bandera}"
   ]
  },
  {
   "cell_type": "code",
   "execution_count": null,
   "id": "aa258017",
   "metadata": {},
   "outputs": [],
   "source": [
    "datos = [datos_pais(p) for p in equipos]"
   ]
  },
  {
   "cell_type": "code",
   "execution_count": null,
   "id": "5caba23c",
   "metadata": {},
   "outputs": [],
   "source": [
    "import json\n",
    "\n",
    "json.dump(datos, open('equipos.json', 'w'), indent = 4)\n"
   ]
  },
  {
   "cell_type": "code",
   "execution_count": null,
   "id": "d9413161",
   "metadata": {},
   "outputs": [],
   "source": [
    "from selenium.webdriver.common.by import By\n",
    "from selenium.webdriver.support.wait import WebDriverWait\n",
    "from selenium.webdriver.support import expected_conditions as EC\n",
    "import time\n",
    "\n",
    "for p in datos:\n",
    "    url = p['url']\n",
    "    driver.get(url)\n",
    "    WebDriverWait(driver, 30).until(EC.presence_of_element_located((By.XPATH,\n",
    "         '//div[contains(@class, \"manager-badge-card_badgeCard\")]')))\n",
    "\n",
    "    with open(f'equipos/{p[\"nombre\"]}.html', 'w') as f:\n",
    "        f.write(driver.page_source)\n",
    "    time.sleep(3) # para no saturar el servidor\n",
    "    "
   ]
  }
 ],
 "metadata": {
  "kernelspec": {
   "display_name": "Python 3.8.10 ('env': venv)",
   "language": "python",
   "name": "python3"
  },
  "language_info": {
   "codemirror_mode": {
    "name": "ipython",
    "version": 3
   },
   "file_extension": ".py",
   "mimetype": "text/x-python",
   "name": "python",
   "nbconvert_exporter": "python",
   "pygments_lexer": "ipython3",
   "version": "3.8.10"
  },
  "vscode": {
   "interpreter": {
    "hash": "d7d2ccfaef867ec09ad613dc5506b79eb5c2fa2d5c5fa71603bbc7f41f7e86d7"
   }
  }
 },
 "nbformat": 4,
 "nbformat_minor": 5
}
