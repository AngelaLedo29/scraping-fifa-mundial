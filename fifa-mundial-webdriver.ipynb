{
 "cells": [
  {
   "cell_type": "markdown",
   "id": "111aeda0",
   "metadata": {},
   "source": [
    "## Introducción Scraping II\n",
    "\n",
    "\n",
    "Trabajo de scraping sobre la web de FIFA para obtener información de los jugadores de la selección española de fútbol en el Mundial de 2022\n",
    "\n",
    "> Automatización de la descarga del archivo html\n",
    "\n"
   ]
  },
  {
   "cell_type": "code",
   "execution_count": null,
   "id": "b60a5534",
   "metadata": {},
   "outputs": [],
   "source": [
    "! pip install --upgrade pip\n",
    "! pip install selenium"
   ]
  },
  {
   "cell_type": "markdown",
   "id": "94021987",
   "metadata": {},
   "source": [
    "## Instalación del driver\n",
    "\n",
    "https://selenium-python.readthedocs.io/installation.html#drivers\n",
    "\n",
    "Tienes que descargar el driver del navegador que vayas a usar.\n",
    "\n",
    "### Driver de Firefox\n",
    "Descarga la versión adecuada a tu navegador (versión) y sistema operativo de https://github.com/mozilla/geckodriver/releases\n",
    "\n",
    "### Driver de Chrome    \n",
    "https://sites.google.com/chromium.org/driver/downloads\n",
    "\n",
    "Descomprime el driver en esta carpeta."
   ]
  },
  {
   "cell_type": "code",
   "execution_count": null,
   "id": "6065a04b",
   "metadata": {},
   "outputs": [],
   "source": [
    "# Ejemplo usando Firefox\n",
    "from selenium import webdriver\n",
    "from selenium.webdriver.firefox.options import Options\n",
    "\n",
    "# Options para headless (sin interfaz gráfica)\n",
    "options = Options()\n",
    "options.add_argument('-headless')\n",
    "\n",
    "url = 'https://www.fifa.com/fifaplus/es/tournaments/mens/worldcup/qatar2022/teams/spain/squad'\n",
    "\n",
    "driver = webdriver.Firefox(options = options)\n",
    "\n",
    "# si no encuentra el binary\n",
    "# driver = webdriver.Firefox(firefox_binary = '/usr/bin/firefox', options = options)\n",
    "\n",
    "driver.get(url)\n",
    "driver.implicitly_wait(10) # para carga de js?\n"
   ]
  },
  {
   "cell_type": "code",
   "execution_count": null,
   "id": "9fb0c85f",
   "metadata": {},
   "outputs": [],
   "source": [
    "with open('spain.html', 'w') as f:\n",
    "    f.write(driver.page_source)"
   ]
  },
  {
   "cell_type": "markdown",
   "id": "631c4115",
   "metadata": {},
   "source": [
    "¿Ahora podrías usar la web de los equipos para descargarlos todos? \n",
    "\n",
    "https://www.fifa.com/fifaplus/es/tournaments/mens/worldcup/qatar2022/teams"
   ]
  },
  {
   "cell_type": "code",
   "execution_count": null,
   "id": "682dd051",
   "metadata": {},
   "outputs": [],
   "source": [
    "# Cargar la página de equipos con el navegador\n",
    "url = 'https://www.fifa.com/fifaplus/es/tournaments/mens/worldcup/qatar2022/teams'\n",
    "driver.get(url)\n",
    "driver.implicitly_wait(10) # para carga de js?"
   ]
  },
  {
   "cell_type": "code",
   "execution_count": null,
   "id": "558e71aa",
   "metadata": {},
   "outputs": [],
   "source": [
    "# guardo la página web con los equipos\n",
    "\n",
    "with open('equipos.html', 'w') as f:\n",
    "    f.write(driver.page_source)"
   ]
  },
  {
   "cell_type": "code",
   "execution_count": null,
   "id": "3964aecf",
   "metadata": {},
   "outputs": [],
   "source": [
    "# Cargamos nuevo archivo equipos.html\n",
    "from bs4 import BeautifulSoup\n",
    "\n",
    "html_doc = open('equipos.html').read()\n",
    "\n",
    "soup = BeautifulSoup(html_doc, 'html.parser')"
   ]
  },
  {
   "cell_type": "code",
   "execution_count": null,
   "id": "055cc55a",
   "metadata": {},
   "outputs": [],
   "source": [
    "# Buscamos los equipos\n",
    "equipos = soup.select('div[class*=\"flag-grid_flagGrid\"] a')\n",
    "print(len(equipos))\n"
   ]
  },
  {
   "cell_type": "code",
   "execution_count": null,
   "id": "d11edcc9",
   "metadata": {},
   "outputs": [],
   "source": [
    "# Preparamos función para extraer los datos de cada país\n",
    "\n",
    "def datos_pais(p):\n",
    "    nombre = p.select('div[class*=\"flag-with-info_flagCountry\"]')[0].text\n",
    "    abr = p.select('div[class*=\"flag-with-info_flagAbbr\"]')[0].text.replace('(', '').replace(')', '')\n",
    "    url = f'https://www.fifa.com{p.attrs[\"href\"]}'.replace('news', 'squad')  # url de la plantilla\n",
    "    bandera = p.select('div[class*=\"flag_flagLarge\"] img')[0]['src']\n",
    "    return {'nombre': nombre, 'abr': abr, 'url': url, 'bandera': bandera}"
   ]
  },
  {
   "cell_type": "code",
   "execution_count": null,
   "id": "aa258017",
   "metadata": {},
   "outputs": [],
   "source": [
    "datos = [datos_pais(p) for p in equipos]"
   ]
  },
  {
   "cell_type": "code",
   "execution_count": null,
   "id": "5caba23c",
   "metadata": {},
   "outputs": [],
   "source": [
    "import json\n",
    "\n",
    "json.dump(datos, open('equipos.json', 'w'), indent = 4)\n"
   ]
  },
  {
   "cell_type": "code",
   "execution_count": null,
   "id": "d9413161",
   "metadata": {},
   "outputs": [],
   "source": [
    "from selenium.webdriver.common.by import By\n",
    "from selenium.webdriver.support.wait import WebDriverWait\n",
    "from selenium.webdriver.support import expected_conditions as EC\n",
    "import time\n",
    "\n",
    "for p in datos:\n",
    "    url = p['url']\n",
    "    driver.get(url)\n",
    "    WebDriverWait(driver, 30).until(EC.presence_of_element_located((By.XPATH,\n",
    "         '//div[contains(@class, \"manager-badge-card_badgeCard\")]')))\n",
    "\n",
    "    with open(f'equipos/{p[\"nombre\"]}.html', 'w') as f:\n",
    "        f.write(driver.page_source)\n",
    "    time.sleep(3) # para no saturar el servidor\n",
    "    "
   ]
  },
  {
   "cell_type": "markdown",
   "id": "3102274b",
   "metadata": {},
   "source": [
    "## Extracción a partir de los archivos descargados"
   ]
  },
  {
   "cell_type": "markdown",
   "id": "2c8ac5f5",
   "metadata": {},
   "source": [
    "Ya tenemos las selecciones en la carpeta **equipos**. Ahora las podemos leer y procesar como hicimos en el notebook anterior.\n"
   ]
  },
  {
   "cell_type": "code",
   "execution_count": 9,
   "id": "c54a5208",
   "metadata": {},
   "outputs": [],
   "source": [
    "# Recuperamos las funciones del ejercicio anterior\n",
    "\n",
    "from bs4 import BeautifulSoup\n",
    "import re\n",
    "from pathlib import Path\n",
    "\n",
    "ruta = Path('equipos')  # ruta de los archivos html que hemos guardado\n",
    "\n",
    "def get_soup(f):\n",
    "    '''Devuelve el objeto BeautifulSoup a partir de la ruta de un archivo .html'''\n",
    "\n",
    "    with open(f) as f:\n",
    "        html_doc = f.read()\n",
    "    soup = BeautifulSoup(html_doc, 'html.parser')\n",
    "    return soup\n",
    "\n",
    "def extraer_jugador(j):\n",
    "    '''Extae nombre, apellido, imagen y posición de un jugador a partir de un objeto BeautifulSoup'''\n",
    "    \n",
    "    nombre = j.select('div[class*=\"player-badge-card_playerFirstname\"] span.d-none span')[0].text\n",
    "    # Algunos jugadores no tienen apellido\n",
    "    apellido_ = j.select('div[class*=\"player-badge-card_playerSurname\"] span.d-none span')\n",
    "    if apellido_:\n",
    "        apellido = apellido_[0].text\n",
    "    else:\n",
    "        apellido = ''\n",
    "\n",
    "    text_url = j.select('div[class*=\"player-badge-card_playerImage\"] div')[0].attrs['style']\n",
    "    # Algunas url no contienen la url de la imagen ¿?\n",
    "    url = re.search(r'url\\(\"(.*)\"\\)', text_url ).group(1)\n",
    "    posicion = j.select('div[class*=\"player-badge-card_playerPosition\"] span.d-none')[0].text\n",
    "\n",
    "    return {'nombre': nombre, 'apellido': apellido, 'imagen': url, 'posicion': posicion}  \n",
    "\n",
    "def extraer_plantilla(f):\n",
    "    '''Extrae los jugadores de la plantilla del archivo f'''\n",
    "    def asigna_equipo(j):\n",
    "        j['equipo'] = f.stem\n",
    "        return j\n",
    "\n",
    "    soup = get_soup(f)\n",
    "    #jugadores = soup.select('div[class*=\"player-badge-card_playerBadgeCard\"]')\n",
    "    jugadores = soup.select('div[class*=\"player-badge-card_badgeCard\"]')\n",
    "    datos = [extraer_jugador(j) for j in jugadores]\n",
    "    return map(asigna_equipo, datos)\n",
    "\n",
    "    "
   ]
  },
  {
   "cell_type": "code",
   "execution_count": 11,
   "id": "df34dfd6",
   "metadata": {},
   "outputs": [],
   "source": [
    "# Lista para guardar los jugadores\n",
    "\n",
    "jugadores = []"
   ]
  },
  {
   "cell_type": "code",
   "execution_count": 14,
   "id": "0f24d2c0",
   "metadata": {},
   "outputs": [],
   "source": [
    "# Recorremos los archivos html de la carpeta equipos y extraemos los jugadores\n",
    "# con la función extraer_plantilla\n",
    "\n",
    "for f in ruta.glob('*.html'):\n",
    "    jugadores.extend(extraer_plantilla(f))\n",
    "    "
   ]
  },
  {
   "cell_type": "code",
   "execution_count": 15,
   "id": "63abf9ea",
   "metadata": {},
   "outputs": [
    {
     "data": {
      "text/plain": [
       "857"
      ]
     },
     "execution_count": 15,
     "metadata": {},
     "output_type": "execute_result"
    }
   ],
   "source": [
    "# Comprobamos cuánto jugadores hemos extraído\n",
    "len(jugadores)"
   ]
  },
  {
   "cell_type": "code",
   "execution_count": 16,
   "id": "75657987",
   "metadata": {},
   "outputs": [],
   "source": [
    "import json\n",
    "\n",
    "with open('jugadores_mundial.json', 'w') as f:\n",
    "    json.dump(jugadores, f, indent = 4)"
   ]
  }
 ],
 "metadata": {
  "kernelspec": {
   "display_name": "Python 3.8.10 ('env': venv)",
   "language": "python",
   "name": "python3"
  },
  "language_info": {
   "codemirror_mode": {
    "name": "ipython",
    "version": 3
   },
   "file_extension": ".py",
   "mimetype": "text/x-python",
   "name": "python",
   "nbconvert_exporter": "python",
   "pygments_lexer": "ipython3",
   "version": "3.8.10"
  },
  "vscode": {
   "interpreter": {
    "hash": "d7d2ccfaef867ec09ad613dc5506b79eb5c2fa2d5c5fa71603bbc7f41f7e86d7"
   }
  }
 },
 "nbformat": 4,
 "nbformat_minor": 5
}
