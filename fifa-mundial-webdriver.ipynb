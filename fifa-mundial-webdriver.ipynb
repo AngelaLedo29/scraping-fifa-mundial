{
 "cells": [
  {
   "cell_type": "markdown",
   "id": "111aeda0",
   "metadata": {},
   "source": [
    "## Introducción Scraping II\n",
    "\n",
    "\n",
    "Trabajo de scraping sobre la web de FIFA para obtener información de los jugadores de la selección española de fútbol en el Mundial de 2022\n",
    "\n",
    "> Automatización de la descarga del archivo html\n",
    "\n"
   ]
  },
  {
   "cell_type": "code",
   "execution_count": null,
   "id": "b60a5534",
   "metadata": {},
   "outputs": [],
   "source": [
    "! pip install selenium geckodriver_autoinstaller"
   ]
  },
  {
   "cell_type": "code",
   "execution_count": null,
   "id": "94021987",
   "metadata": {},
   "outputs": [],
   "source": [
    "# https://selenium-python.readthedocs.io/installation.html\n",
    "https://selenium-python.readthedocs.io/installation.html"
   ]
  },
  {
   "cell_type": "code",
   "execution_count": null,
   "id": "9d389fb4",
   "metadata": {},
   "outputs": [],
   "source": [
    "# instalación del driver de firefox\n",
    "\n",
    "import geckodriver_autoinstaller\n",
    "\n",
    "geckodriver_autoinstaller.install()"
   ]
  },
  {
   "cell_type": "code",
   "execution_count": null,
   "id": "6065a04b",
   "metadata": {},
   "outputs": [],
   "source": [
    "from selenium import webdriver\n",
    "from selenium.webdriver.firefox.options import Options\n",
    "\n",
    "# Options para headless (sin interfaz gráfica)\n",
    "options = Options()\n",
    "options.add_argument('-headless')\n",
    "\n",
    "url = 'https://www.fifa.com/fifaplus/es/tournaments/mens/worldcup/qatar2022/teams/spain/squad'\n",
    "\n",
    "driver = webdriver.Firefox(options = options)\n",
    "\n",
    "driver.get(url)\n",
    "driver.implicitly_wait(3) # para carga de js?\n"
   ]
  },
  {
   "cell_type": "code",
   "execution_count": null,
   "id": "9fb0c85f",
   "metadata": {},
   "outputs": [],
   "source": [
    "with open('spain.html', 'w') as f:\n",
    "    f.write(driver.page_source)"
   ]
  },
  {
   "cell_type": "markdown",
   "id": "631c4115",
   "metadata": {},
   "source": [
    "¿Ahora podrías usar la web de los equipos para descargarlos todos? \n",
    "\n",
    "https://www.fifa.com/fifaplus/es/tournaments/mens/worldcup/qatar2022/teams"
   ]
  }
 ],
 "metadata": {
  "kernelspec": {
   "display_name": "Python 3.7.6 ('base')",
   "language": "python",
   "name": "python3"
  },
  "language_info": {
   "codemirror_mode": {
    "name": "ipython",
    "version": 3
   },
   "file_extension": ".py",
   "mimetype": "text/x-python",
   "name": "python",
   "nbconvert_exporter": "python",
   "pygments_lexer": "ipython3",
   "version": "3.7.6"
  },
  "vscode": {
   "interpreter": {
    "hash": "55983fb84f6e59716d1b915c21554dd223e7219f13cfb18971fe1502d0d0d902"
   }
  }
 },
 "nbformat": 4,
 "nbformat_minor": 5
}
