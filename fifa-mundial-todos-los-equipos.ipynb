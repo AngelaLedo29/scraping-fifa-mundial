{
 "cells": [
  {
   "cell_type": "markdown",
   "id": "111aeda0",
   "metadata": {},
   "source": [
    "## Introducción Scraping III\n",
    "\n",
    "\n",
    "\n",
    "Trabajo de scraping sobre la web de FIFA para obtener información de los jugadores de la selección española de fútbol en el Mundial de 2022\n",
    "\n",
    "> Procesado de los html descargados\n",
    "\n"
   ]
  },
  {
   "cell_type": "markdown",
   "id": "3102274b",
   "metadata": {},
   "source": [
    "## Extracción a partir de los archivos descargados"
   ]
  },
  {
   "cell_type": "markdown",
   "id": "2c8ac5f5",
   "metadata": {},
   "source": [
    "Ya tenemos las selecciones en la carpeta **equipos**. Ahora las podemos leer y procesar como hicimos en el notebook anterior.\n"
   ]
  },
  {
   "cell_type": "code",
   "execution_count": 9,
   "id": "c54a5208",
   "metadata": {},
   "outputs": [],
   "source": [
    "# Recuperamos las funciones del ejercicio anterior\n",
    "\n",
    "from bs4 import BeautifulSoup\n",
    "import re\n",
    "from pathlib import Path\n",
    "\n",
    "ruta = Path('equipos')  # ruta de los archivos html que hemos guardado\n",
    "\n",
    "def get_soup(f):\n",
    "    '''Devuelve el objeto BeautifulSoup a partir de la ruta de un archivo .html'''\n",
    "\n",
    "    with open(f) as f:\n",
    "        html_doc = f.read()\n",
    "    soup = BeautifulSoup(html_doc, 'html.parser')\n",
    "    return soup\n",
    "\n",
    "def extraer_jugador(j):\n",
    "    '''Extae nombre, apellido, imagen y posición de un jugador a partir de un objeto BeautifulSoup'''\n",
    "    \n",
    "    nombre = j.select('div[class*=\"player-badge-card_playerFirstname\"] span.d-none span')[0].text\n",
    "    # Algunos jugadores no tienen apellido\n",
    "    apellido_ = j.select('div[class*=\"player-badge-card_playerSurname\"] span.d-none span')\n",
    "    if apellido_:\n",
    "        apellido = apellido_[0].text\n",
    "    else:\n",
    "        apellido = ''\n",
    "\n",
    "    text_url = j.select('div[class*=\"player-badge-card_playerImage\"] div')[0].attrs['style']\n",
    "    # Algunas url no contienen la url de la imagen ¿?\n",
    "    url = re.search(r'url\\(\"(.*)\"\\)', text_url ).group(1)\n",
    "    posicion = j.select('div[class*=\"player-badge-card_playerPosition\"] span.d-none')[0].text\n",
    "\n",
    "    return {'nombre': nombre, 'apellido': apellido, 'imagen': url, 'posicion': posicion}  \n",
    "\n",
    "def extraer_plantilla(f):\n",
    "    '''Extrae los jugadores de la plantilla del archivo f'''\n",
    "    def asigna_equipo(j):\n",
    "        j['equipo'] = f.stem\n",
    "        return j\n",
    "\n",
    "    soup = get_soup(f)\n",
    "    #jugadores = soup.select('div[class*=\"player-badge-card_playerBadgeCard\"]')\n",
    "    jugadores = soup.select('div[class*=\"player-badge-card_badgeCard\"]')\n",
    "    datos = [extraer_jugador(j) for j in jugadores]\n",
    "    return map(asigna_equipo, datos)\n",
    "\n",
    "    "
   ]
  },
  {
   "cell_type": "code",
   "execution_count": 11,
   "id": "df34dfd6",
   "metadata": {},
   "outputs": [],
   "source": [
    "# Lista para guardar los jugadores\n",
    "\n",
    "jugadores = []"
   ]
  },
  {
   "cell_type": "code",
   "execution_count": 14,
   "id": "0f24d2c0",
   "metadata": {},
   "outputs": [],
   "source": [
    "# Recorremos los archivos html de la carpeta equipos y extraemos los jugadores\n",
    "# con la función extraer_plantilla\n",
    "\n",
    "for f in ruta.glob('*.html'):\n",
    "    jugadores.extend(extraer_plantilla(f))\n",
    "    "
   ]
  },
  {
   "cell_type": "code",
   "execution_count": 15,
   "id": "63abf9ea",
   "metadata": {},
   "outputs": [
    {
     "data": {
      "text/plain": [
       "857"
      ]
     },
     "execution_count": 15,
     "metadata": {},
     "output_type": "execute_result"
    }
   ],
   "source": [
    "# Comprobamos cuánto jugadores hemos extraído\n",
    "len(jugadores)"
   ]
  },
  {
   "cell_type": "code",
   "execution_count": 16,
   "id": "75657987",
   "metadata": {},
   "outputs": [],
   "source": [
    "import json\n",
    "\n",
    "with open('jugadores_mundial.json', 'w') as f:\n",
    "    json.dump(jugadores, f, indent = 4)"
   ]
  }
 ],
 "metadata": {
  "kernelspec": {
   "display_name": "Python 3.8.10 ('env': venv)",
   "language": "python",
   "name": "python3"
  },
  "language_info": {
   "codemirror_mode": {
    "name": "ipython",
    "version": 3
   },
   "file_extension": ".py",
   "mimetype": "text/x-python",
   "name": "python",
   "nbconvert_exporter": "python",
   "pygments_lexer": "ipython3",
   "version": "3.8.10"
  },
  "vscode": {
   "interpreter": {
    "hash": "d7d2ccfaef867ec09ad613dc5506b79eb5c2fa2d5c5fa71603bbc7f41f7e86d7"
   }
  }
 },
 "nbformat": 4,
 "nbformat_minor": 5
}
