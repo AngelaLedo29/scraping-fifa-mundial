{
 "cells": [
  {
   "cell_type": "markdown",
   "id": "111aeda0",
   "metadata": {},
   "source": [
    "## Introducción Scraping\n",
    "\n",
    "Trabajo de scraping sobre la web de FIFA para obtener información de los jugadores de la selección española de fútbol en el Mundial de 2022\n",
    "\n",
    "https://www.fifa.com/fifaplus/es/tournaments/mens/worldcup/qatar2022/teams/spain/squad\n"
   ]
  },
  {
   "cell_type": "code",
   "execution_count": null,
   "id": "b60a5534",
   "metadata": {},
   "outputs": [],
   "source": [
    "! pip install lxml bs4 requests"
   ]
  },
  {
   "cell_type": "code",
   "execution_count": 1,
   "id": "ac95f182",
   "metadata": {},
   "outputs": [],
   "source": [
    "from bs4 import BeautifulSoup\n",
    "\n",
    "html_doc = open('spain.html').read()\n",
    "\n",
    "soup = BeautifulSoup(html_doc, 'html.parser')"
   ]
  },
  {
   "cell_type": "code",
   "execution_count": 2,
   "id": "c2e68a7f",
   "metadata": {},
   "outputs": [
    {
     "name": "stdout",
     "output_type": "stream",
     "text": [
      "26\n"
     ]
    }
   ],
   "source": [
    "jugadores = soup.select('div[class*=\"player-badge-card_badgeCard\"]')\n",
    "print(len(jugadores))"
   ]
  },
  {
   "cell_type": "code",
   "execution_count": 3,
   "id": "9dec55a5",
   "metadata": {},
   "outputs": [
    {
     "data": {
      "text/plain": [
       "bs4.element.Tag"
      ]
     },
     "execution_count": 3,
     "metadata": {},
     "output_type": "execute_result"
    }
   ],
   "source": [
    "j = jugadores[0]\n",
    "type(j)"
   ]
  },
  {
   "cell_type": "code",
   "execution_count": 13,
   "id": "591c01bc",
   "metadata": {},
   "outputs": [
    {
     "name": "stdout",
     "output_type": "stream",
     "text": [
      "Robert\n",
      "Lynch Sánchez\n",
      "Robert\n",
      "Lynch Sánchez\n"
     ]
    }
   ],
   "source": [
    "for n in j.find('div', class_=\"player-badge-card_playerInfo__3Fy6Q\").find_all('span', class_='d-none'):\n",
    "    print(n.text)\n",
    "\n",
    "res = j.select('div[class*=\"player-badge-card_playerInfo\"]')\n",
    "for r in res:\n",
    "    for n in r.find_all('span', class_='d-none'):\n",
    "        print(n.text)\n",
    "\n",
    "    "
   ]
  },
  {
   "cell_type": "code",
   "execution_count": null,
   "id": "47ae631e",
   "metadata": {},
   "outputs": [],
   "source": [
    "# imagen\n",
    "j.find('div', class_='player-badge-card_playerImage__301X0').attrs['style']"
   ]
  },
  {
   "cell_type": "code",
   "execution_count": null,
   "id": "14effc64",
   "metadata": {},
   "outputs": [],
   "source": [
    "import re\n",
    "re.search(r'url\\(\"(.*)\"\\)', j.find('div', class_='player-badge-card_playerImage__301X0').attrs['style']).group(1)"
   ]
  },
  {
   "cell_type": "code",
   "execution_count": null,
   "id": "d6d8a2e8",
   "metadata": {},
   "outputs": [],
   "source": [
    "j.find('div', class_='player-badge-card_playerPosition__wjnoI').find('span', class_='d-none').text\n"
   ]
  },
  {
   "cell_type": "code",
   "execution_count": null,
   "id": "631c4115",
   "metadata": {},
   "outputs": [],
   "source": [
    "# manager-badge-card_badgeCard__1nDB7\n",
    "\n",
    "\n",
    "# soup.find_all(lambda tag:tag.name==\"div\" and hasattr(tag, \"class\") and \"quote\" in tag['class'])\n",
    "j.find('div', class_='player-badge-card_playerPosition')\n",
    "j.find_all(lambda tag:tag.name=='div' and [ x for x in tag['class'] if x.startswith('player-badge-card_playerPosition')])"
   ]
  },
  {
   "cell_type": "code",
   "execution_count": null,
   "id": "b1f4caf5",
   "metadata": {},
   "outputs": [],
   "source": [
    "j.select('div[class*=\"player-badge-card_playerPosition\"]')"
   ]
  },
  {
   "cell_type": "code",
   "execution_count": null,
   "id": "8b298833",
   "metadata": {},
   "outputs": [],
   "source": []
  },
  {
   "cell_type": "code",
   "execution_count": null,
   "id": "6e0ecb2a",
   "metadata": {},
   "outputs": [],
   "source": []
  }
 ],
 "metadata": {
  "kernelspec": {
   "display_name": "Python 3.8.10 ('env': venv)",
   "language": "python",
   "name": "python3"
  },
  "language_info": {
   "codemirror_mode": {
    "name": "ipython",
    "version": 3
   },
   "file_extension": ".py",
   "mimetype": "text/x-python",
   "name": "python",
   "nbconvert_exporter": "python",
   "pygments_lexer": "ipython3",
   "version": "3.8.10"
  },
  "vscode": {
   "interpreter": {
    "hash": "3af8772890e5b294bf0e10a5c3133cacb245edec2987173381e053944bb07291"
   }
  }
 },
 "nbformat": 4,
 "nbformat_minor": 5
}
