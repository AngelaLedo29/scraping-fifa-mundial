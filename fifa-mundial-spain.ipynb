{
 "cells": [
  {
   "cell_type": "markdown",
   "id": "111aeda0",
   "metadata": {},
   "source": [
    "## Introducción Scraping\n",
    "\n",
    "Trabajo de scraping sobre la web de FIFA para obtener información de los jugadores de la selección española de fútbol en el Mundial de 2022\n",
    "\n",
    "> En este caso partimos de una página web que vamos a descargar porque se genera con javascript y no podemos obtenerla con `requests`.\n",
    "\n",
    "https://www.fifa.com/fifaplus/es/tournaments/mens/worldcup/qatar2022/teams/spain/squad\n"
   ]
  },
  {
   "cell_type": "code",
   "execution_count": null,
   "id": "b60a5534",
   "metadata": {},
   "outputs": [],
   "source": [
    "# librerías necesarias (sólo bs4 para este ejemplo) \n",
    "! pip install --upgrade pip\n",
    "! pip install lxml bs4"
   ]
  },
  {
   "cell_type": "code",
   "execution_count": null,
   "id": "ac95f182",
   "metadata": {},
   "outputs": [],
   "source": [
    "# creación del objeto BeautifulSoup para analizar el html\n",
    "\n",
    "from bs4 import BeautifulSoup\n",
    "\n",
    "html_doc = open('spain.html', encoding=\"utf-8\").read()\n",
    "\n",
    "soup = BeautifulSoup(html_doc, 'html.parser')"
   ]
  },
  {
   "cell_type": "code",
   "execution_count": null,
   "id": "c2e68a7f",
   "metadata": {},
   "outputs": [],
   "source": [
    "# Analizamos los contenedores de los jugadores en el html\n",
    "# Vemos que están en una clase \"player-badge-card_badgeCard*\"\n",
    "# Extracción con select\n",
    "\n",
    "jugadores = soup.select('div[class*=\"player-badge-card_badgeCard\"]')\n",
    "print(len(jugadores))"
   ]
  },
  {
   "cell_type": "code",
   "execution_count": null,
   "id": "9dec55a5",
   "metadata": {},
   "outputs": [],
   "source": [
    "# primer jugador\n",
    "j = jugadores[0]\n",
    "type(j)"
   ]
  },
  {
   "cell_type": "code",
   "execution_count": null,
   "id": "a1721982",
   "metadata": {},
   "outputs": [],
   "source": [
    "nombre = j.select('div[class*=\"player-badge-card_playerFirstname\"] span.d-none span')[0].text\n",
    "\n",
    "apellido = j.select('div[class*=\"player-badge-card_playerSurname\"] span.d-none span')[0].text\n",
    "\n",
    "print(f'{nombre} {apellido.upper()}')"
   ]
  },
  {
   "cell_type": "code",
   "execution_count": null,
   "id": "47ae631e",
   "metadata": {},
   "outputs": [],
   "source": [
    "# Imagen\n",
    "import re\n",
    "text_url = j.select('div[class*=\"player-badge-card_playerImage\"] div')[0].attrs['style']\n",
    "\n",
    "re.search(r'url\\(\"(.*)\"\\)', text_url ).group(1)"
   ]
  },
  {
   "cell_type": "code",
   "execution_count": null,
   "id": "631c4115",
   "metadata": {},
   "outputs": [],
   "source": [
    "# Posición\n",
    "select_posicion = 'div[class*=\"player-badge-card_playerPosition\"] span.d-none'\n",
    "j.select(select_posicion)[0].text"
   ]
  },
  {
   "cell_type": "code",
   "execution_count": null,
   "id": "8d176a37",
   "metadata": {},
   "outputs": [],
   "source": [
    "# Todo junto\n",
    "\n",
    "def extraer_jugador(j):\n",
    "    '''Extae nombre, apellido, imagen y posición de un jugador'''\n",
    "    \n",
    "    nombre = j.select('div[class*=\"player-badge-card_playerFirstname\"] span.d-none span')[0].text\n",
    "    # Algunos jugadores no tienen apellido\n",
    "    apellido_ = j.select('div[class*=\"player-badge-card_playerSurname\"] span.d-none span')\n",
    "    if apellido_:\n",
    "        apellido = apellido_[0].text\n",
    "    else:\n",
    "        apellido = ''\n",
    "\n",
    "    text_url = j.select('div[class*=\"player-badge-card_playerImage\"] div')[0].attrs['style']\n",
    "    # Algunas url no contienen la url de la imagen ¿?\n",
    "    url = re.search(r'url\\(\"(.*)\"\\)', text_url ).group(1)\n",
    "    posicion = j.select('div[class*=\"player-badge-card_playerPosition\"] span.d-none')[0].text\n",
    "\n",
    "    return {'nombre': nombre, 'apellido': apellido, 'imagen': url, 'posicion': posicion}  "
   ]
  },
  {
   "cell_type": "code",
   "execution_count": null,
   "id": "9be490f9",
   "metadata": {},
   "outputs": [],
   "source": [
    "# Extraemos la información de todos los jugadores\n",
    "# Forma 1: con un bucle\n",
    "\n",
    "datos = []\n",
    "for j in jugadores:\n",
    "    datos.append(extraer_jugador(j))\n",
    "\n",
    "datos"
   ]
  },
  {
   "cell_type": "code",
   "execution_count": null,
   "id": "04f4f406",
   "metadata": {},
   "outputs": [],
   "source": [
    "# forma 2: con list comprehension\n",
    "\n",
    "datos = [extraer_jugador(j) for j in jugadores]"
   ]
  },
  {
   "cell_type": "code",
   "execution_count": null,
   "id": "e3ffec54",
   "metadata": {},
   "outputs": [],
   "source": [
    "# Guardamos los datos en un json\n",
    "import json\n",
    "\n",
    "with open('spain.json', 'w') as f:\n",
    "    json.dump(datos, f, indent=4)\n",
    "    "
   ]
  },
  {
   "cell_type": "markdown",
   "id": "b6ab14a1",
   "metadata": {},
   "source": [
    "### ¿Y el entrenador?  Se nos ha olvidado 🤔"
   ]
  },
  {
   "cell_type": "code",
   "execution_count": null,
   "id": "bc798657",
   "metadata": {},
   "outputs": [],
   "source": [
    "# Todos los equpos a partir de la página de equipos la FIFA\n",
    "# \n",
    "\n",
    "html_doc = open('equipos.html', encoding=\"utf-8\").read()\n",
    "\n",
    "soup = BeautifulSoup(html_doc, 'html.parser')\n",
    "\n",
    "equipos = soup.select('div[class*=\"flag-grid_flagGrid__2y0Q\"] a')\n"
   ]
  },
  {
   "cell_type": "code",
   "execution_count": null,
   "id": "51458ec1",
   "metadata": {},
   "outputs": [],
   "source": [
    "len(equipos)"
   ]
  }
 ],
 "metadata": {
  "kernelspec": {
   "display_name": "Python 3.8.10 ('env': venv)",
   "language": "python",
   "name": "python3"
  },
  "language_info": {
   "codemirror_mode": {
    "name": "ipython",
    "version": 3
   },
   "file_extension": ".py",
   "mimetype": "text/x-python",
   "name": "python",
   "nbconvert_exporter": "python",
   "pygments_lexer": "ipython3",
   "version": "3.8.10"
  },
  "vscode": {
   "interpreter": {
    "hash": "d7d2ccfaef867ec09ad613dc5506b79eb5c2fa2d5c5fa71603bbc7f41f7e86d7"
   }
  }
 },
 "nbformat": 4,
 "nbformat_minor": 5
}
